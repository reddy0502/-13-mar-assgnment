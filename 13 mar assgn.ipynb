{
 "cells": [
  {
   "cell_type": "markdown",
   "id": "c613e864-09d5-4740-b048-70c6acb00411",
   "metadata": {},
   "source": [
    "1ans:\n",
    "\n",
    "ANOVA (Analysis of Variance) is a statistical method used to compare the means of two or more groups. ANOVA assumes that the following conditions are met:\n",
    "\n",
    "Independence: The observations in each group are independent of each other. This means that the response variable for one observation is not influenced by the response variable for another observation.\n",
    "\n",
    "Normality: The response variable in each group follows a normal distribution. This assumption is important because ANOVA uses the normal distribution to calculate probabilities.\n",
    "\n",
    "Homogeneity of variance: The variance of the response variable is the same in each group. This assumption is important because ANOVA assumes that the groups being compared have similar variances.\n",
    "\n",
    "xamples of violations that could impact the validity of ANOVA results include:\n",
    "\n",
    "Non-independence: Observations within a group are not independent, meaning they are related to each other. For example, if we were comparing test scores of students in a classroom, and we did not account for the fact that some students may have studied together and shared information, our results may be biased.\n",
    "\n",
    "Non-normality: The response variable does not follow a normal distribution. For example, if we were comparing the test scores of a small sample size, and the distribution of scores was heavily skewed, our ANOVA results may be inaccurate."
   ]
  },
  {
   "cell_type": "markdown",
   "id": "1b942412-96dc-4137-98a5-aea2f78ad472",
   "metadata": {},
   "source": [
    "2ans:One-way ANOVA:\n",
    "\n",
    "\n",
    "One-way ANOVA is used when there is only one independent variable or factor being tested with two or more groups or levels. This type of ANOVA is used to determine if there is a significant difference between the means of two or more groups. For example, one-way ANOVA can be used to compare the mean salaries of employees in different departments.\n",
    "\n",
    "Two-way ANOVA:\n",
    "Two-way ANOVA is used when there are two independent variables or factors being tested with two or more groups or levels. This type of ANOVA is used to determine if there is a significant interaction effect between the two independent variables. For example, two-way ANOVA can be used to analyze the effects of two different types of medication on blood pressure, where one independent variable is the type of medication, and the other is the time of day.\n",
    "\n",
    "Repeated measures ANOVA:\n",
    "Repeated measures ANOVA is used when the same participants are measured multiple times under different conditions. This type of ANOVA is used to determine if there is a significant difference between the means of two or more conditions or treatments. For example, repeated measures ANOVA can be used to analyze the effect of a treatment on participants' anxiety levels over time.\n"
   ]
  },
  {
   "cell_type": "markdown",
   "id": "b2a7940c-3a31-4c64-80a3-8de7b052e91a",
   "metadata": {},
   "source": [
    "3ans:\n",
    "\n",
    "In ANOVA (analysis of variance), the partitioning of variance refers to the process of decomposing the total variance in a dependent variable into its different sources or components of variation. These sources of variation are typically referred to as the between-group variance and the within-group variance.\n",
    "\n",
    "It is important to understand the concept of partitioning of variance in ANOVA because it allows researchers to determine the relative importance of different sources of variation in the dependent variable. By partitioning the total variance into its components, researchers can determine how much of the variation is due to differences between groups and how much is due to individual differences within each group (i.e., random error). This information can be used to draw conclusions about the effectiveness of different treatments, the presence or absence of a relationship between variables, or other research questions of interest.\n"
   ]
  },
  {
   "cell_type": "code",
   "execution_count": null,
   "id": "980a40ba-f179-4bf5-ab8b-c3df4f5ba6d1",
   "metadata": {},
   "outputs": [],
   "source": [
    "4ans:\n",
    "\n",
    "import pandas as pd\n",
    "import statsmodels.api as sm\n",
    "from statsmodels.formula.api import ols\n",
    "\n",
    "# Create a sample dataset\n",
    "df = pd.DataFrame({'group': ['A', 'A', 'A', 'B', 'B', 'B', 'C', 'C', 'C'],\n",
    "                   'value': [1, 2, 3, 2, 3, 4, 3, 4, 5]})\n",
    "\n",
    "# Fit the one-way ANOVA model\n",
    "model = ols('value ~ group', data=df).fit()\n",
    "\n",
    "# Calculate the sum of squares\n",
    "anova_table = sm.stats.anova_lm(model, typ=2)\n",
    "SST = anova_table['sum_sq']['group'] + anova_table['sum_sq']['Residual']\n",
    "SSE = anova_table['sum_sq']['group']\n",
    "SSR = anova_table['sum_sq']['Residual']\n",
    "\n",
    "# Print the results\n",
    "print('SST:', SST)\n",
    "print('SSE:', SSE)\n",
    "print('SSR:', SSR)\n"
   ]
  },
  {
   "cell_type": "code",
   "execution_count": null,
   "id": "51d01989-7a2c-4ab4-86ac-eb5c2f18044b",
   "metadata": {},
   "outputs": [],
   "source": [
    "5ans:\n",
    "    \n",
    "    import pandas as pd\n",
    "import statsmodels.api as sm\n",
    "from statsmodels.formula.api import ols\n",
    "\n",
    "# Load data\n",
    "data = pd.read_csv('data.csv')\n",
    "\n",
    "# Define the model formula\n",
    "model = ols('y ~ C(factor1) + C(factor2) + C(factor1):C(factor2)', data=data).fit()\n",
    "\n",
    "# Perform two-way ANOVA\n",
    "anova_table = sm.stats.anova_lm(model, typ=2)\n",
    "\n",
    "# Print the ANOVA table\n",
    "print(anova_table)\n",
    "\n",
    "    \n",
    "    "
   ]
  },
  {
   "cell_type": "markdown",
   "id": "0d7499ab-1d81-4638-9592-010e94c62c78",
   "metadata": {},
   "source": [
    "6ans:\n",
    "f you conducted a one-way ANOVA and obtained an F-statistic of 5.23 and a p-value of 0.02, it indicates that there is a statistically significant difference between at least one pair of the group means.\n",
    "\n",
    "The F-statistic is the ratio of the variance between the group means to the variance within the groups. A larger F-value suggests that the difference between the group means is greater than what would be expected by chance alone. The p-value is the probability of obtaining an F-value at least as extreme as the one observed, assuming that there is no real difference between the groups. A p-value of 0.02 suggests that the probability of observing such a large F-value by chance is only 2%, which is generally considered to be a significant result."
   ]
  },
  {
   "cell_type": "markdown",
   "id": "070d4cbf-59cf-4885-afe0-933fd7e87e79",
   "metadata": {},
   "source": [
    "7ans:\n",
    "\n",
    "In a repeated measures ANOVA, missing data can arise due to various reasons such as non-response or participant dropouts. Handling missing data is important as it can impact the accuracy and validity of the analysis results.\n",
    "\n",
    "There are several methods to handle missing data in repeated measures ANOVA, some of which are listed below:\n",
    "\n",
    "Complete-case analysis: This involves excluding participants with missing data from the analysis. This is the simplest approach but may result in a loss of statistical power and potentially biased estimates if the missing data are not missing at random.\n",
    "\n",
    "Mean imputation: This involves replacing the missing values with the mean of the observed values for that variable. This approach is easy to implement but may lead to an underestimation of the standard error and produce biased estimates if the missing data are not missing at random.\n",
    "    \n",
    " The consequences of using different methods to handle missing data in repeated measures ANOVA can be substantial. Different methods can lead to different estimates of the model parameters, standard errors, and statistical significance, and hence different conclusions. It is crucial to assess the sensitivity of the analysis results to the missing data method used and to report the results of sensitivity analyses. It is also essential to consider the potential sources of missing data, the missing data mechanism, and the plausibility of the assumptions underlying the missing data method used."
   ]
  },
  {
   "cell_type": "markdown",
   "id": "d0546010-2421-49c2-94c8-fdf85b749ce2",
   "metadata": {},
   "source": [
    "8ans:\n",
    "\n",
    "After conducting an ANOVA (Analysis of Variance), post-hoc tests are often used to determine which specific groups differ significantly from each other. Some of the most commonly used post-hoc tests include:\n",
    "\n",
    "Tukey's Honestly Significant Difference (HSD) Test: This test is used to compare all pairs of means in a one-way ANOVA, and it is useful when you have more than two groups. This test controls for family-wise error rate, which is the probability of making a type I error (rejecting the null hypothesis when it is true) across all comparisons.\n",
    "\n",
    "Bonferroni Correction: This test is used to control for type I error rate by adjusting the alpha level for each comparison. This test is useful when you have a small number of pairwise comparisons to make.\n",
    "\n",
    "Scheffe's Test: This test is used to compare all possible combinations of means and is useful when you have a small sample size or unequal sample sizes across groups. This test controls for the overall probability of making a type I error."
   ]
  },
  {
   "cell_type": "code",
   "execution_count": null,
   "id": "f6464a82-9071-4a17-83d4-6c618854db86",
   "metadata": {},
   "outputs": [],
   "source": [
    "9ans:\n",
    "\n",
    "import pandas as pd\n",
    "import statsmodels.api as sm\n",
    "from statsmodels.formula.api import ols\n",
    "\n",
    "# load the data\n",
    "data = pd.read_csv('data.csv')\n",
    "\n",
    "# fit the model\n",
    "model = ols('weight_loss ~ diet', data=data).fit()\n",
    "\n",
    "# perform ANOVA\n",
    "anova_table = sm.stats.anova_lm(model, typ=2)\n",
    "\n",
    "# print the results\n",
    "print(anova_table)\n"
   ]
  },
  {
   "cell_type": "code",
   "execution_count": null,
   "id": "1e91ac06-6772-4a8f-adcc-8c3271517b58",
   "metadata": {},
   "outputs": [],
   "source": [
    "10ans:\n",
    "    \n",
    "import pandas as pd\n",
    "import statsmodels.api as sm\n",
    "from statsmodels.formula.api import ols\n",
    "\n",
    "# Load data\n",
    "data = pd.read_csv('data.csv')\n",
    "\n",
    "# Fit ANOVA model\n",
    "model = ols('time ~ software + experience + software:experience', data).fit()\n",
    "anova_table = sm.stats.anova_lm(model, typ=2)\n",
    "\n",
    "# Print ANOVA table\n",
    "print(anova_table)"
   ]
  },
  {
   "cell_type": "markdown",
   "id": "5c550429-bd57-4fc1-bd71-daf59687ccb3",
   "metadata": {},
   "source": [
    "If the p-value is less than 0.05, we can conclude that there is a significant effect. If the F-statistic is large and the p-value is small, we can conclude that the effect is strong.\n",
    "\n",
    "If there is a significant main effect for software, it means that the average time to complete the task differs significantly between the three programs. If there is a significant main effect for experience, it means that the average time to complete the task differs significantly between novice and experienced employees. If there is a significant interaction effect between software and experience, it means that the effect of software on completion time differs significantly between novice and experienced employees."
   ]
  },
  {
   "cell_type": "code",
   "execution_count": null,
   "id": "e92302f2-bd6d-43ef-8fde-be8c51efb929",
   "metadata": {},
   "outputs": [],
   "source": [
    "11ans:\n",
    "    \n",
    "import numpy as np\n",
    "from scipy import stats\n",
    "\n",
    "# Generate random test scores for the control and experimental groups\n",
    "np.random.seed(42)\n",
    "control_scores = np.random.normal(loc=70, scale=10, size=50)\n",
    "experimental_scores = np.random.normal(loc=80, scale=10, size=50)\n",
    "\n",
    "# Conduct a two-sample t-test\n",
    "t_stat, p_value = stats.ttest_ind(control_scores, experimental_scores)\n",
    "print(\"Two-sample t-test results:\")\n",
    "print(f\"t-statistic: {t_stat:.2f}\")\n",
    "print(f\"p-value: {p_value:.4f}\")\n",
    "\n",
    "# Conduct a post-hoc test (Tukey's HSD test) if the results are significant\n",
    "if p_value < 0.05:\n",
    "    print(\"There is a significant difference in test scores between the two groups.\")\n",
    "    from statsmodels.stats.multicomp import pairwise_tukeyhsd\n",
    "    data = np.concatenate([control_scores, experimental_scores])\n",
    "    labels = ['control'] * len(control_scores) + ['experimental'] * len(experimental_scores)\n",
    "    tukey_results = pairwise_tukeyhsd(data, labels, alpha=0.05)\n",
    "    print(\"Post-hoc results:\")\n",
    "    print(tukey_results)\n",
    "else:\n",
    "    print(\"There is no significant difference in test scores between the two groups.\")\n"
   ]
  },
  {
   "cell_type": "code",
   "execution_count": null,
   "id": "0c37a3da-8453-4e20-96a2-43cf60425a0b",
   "metadata": {},
   "outputs": [],
   "source": [
    "12ans:\n",
    "import pandas as pd\n",
    "import numpy as np\n",
    "import statsmodels.api as sm\n",
    "from statsmodels.formula.api import ols\n",
    "\n",
    "# create a pandas DataFrame with the sales data\n",
    "data = pd.DataFrame({\n",
    "    'Store': ['A']*30 + ['B']*30 + ['C']*30,\n",
    "    'Sales': np.random.randint(100, 500, 90)\n",
    "})\n",
    "\n",
    "# fit a repeated measures ANOVA model\n",
    "model = ols('Sales ~ Store', data=data).fit()\n",
    "anova_table = sm.stats.anova_lm(model, typ=2)\n",
    "\n",
    "# print the ANOVA table\n",
    "print(anova_table)\n",
    "\n",
    "    "
   ]
  }
 ],
 "metadata": {
  "kernelspec": {
   "display_name": "Python 3 (ipykernel)",
   "language": "python",
   "name": "python3"
  },
  "language_info": {
   "codemirror_mode": {
    "name": "ipython",
    "version": 3
   },
   "file_extension": ".py",
   "mimetype": "text/x-python",
   "name": "python",
   "nbconvert_exporter": "python",
   "pygments_lexer": "ipython3",
   "version": "3.10.8"
  }
 },
 "nbformat": 4,
 "nbformat_minor": 5
}
